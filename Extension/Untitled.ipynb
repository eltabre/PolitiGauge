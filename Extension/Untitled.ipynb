{
 "cells": [
  {
   "cell_type": "code",
   "execution_count": 5,
   "metadata": {},
   "outputs": [
    {
     "name": "stdout",
     "output_type": "stream",
     "text": [
      "Pundit after pundit, commentator after commentator, host after host already had made up their minds: President Trump was guilty and should be indicted, impeached or removed under the 25th Amendment. To be sure, CNN presented the occasional dissenting view, but it was almost always from right-wing Republicans who viewers could easily discount.\n",
      "Viewers enjoyed my feisty debates with legal analyst Jeffrey Toobin and asked for more. Host Anderson Cooper enjoyed sparring with me, as did hosts Chris Cuomo and Don Lemon. CNN viewers benefited from evaluating my viewpoints against those of other guests and hosts.\n",
      "But then, suddenly, I was banned from CNN.\n",
      "Over the past half year or so, I have never once been asked to appear on a CNN program. Initially I wondered why, and I asked some of my friends at the network. They were evasive and studiously avoided any direct answer to my question.\n",
      "Then I received off-the-record information that an order had come from the very top: CNN executive Jeff Zucker didn’t want me on CNN any more. My centrist, nuanced perspective was anathema to CNN’s emerging brand as the anti-Trump network.\n",
      "I continued to be invited on other networks, including NBC, ABC, MSNBC and Fox. But not CNN.\n",
      "Being perceived as a Trump legal defender, even though I publicly disagreed with many of his policies, was a cardinal sin for a liberal Democrat. It would confuse CNN’s viewers at a time when one had to be either for or against Trump. It was as if I were a Red Sox fan on the Yankee network. Today, everyone has to pick a team — Trump or anti-Trump — and picking the side of the Constitution and civil liberties just doesn’t do it.\n",
      "As my mother said to me when I defended the right of Nazis to march in Skokie, Ill., back in the ’70s: “You’re either for the Nazis or the Jews.” When I tried to explain that I was for the First Amendment, not the Nazis, my mother replied: “I’m your mother. Don’t give me that legal stuff. You should be for the Jews.”\n",
      "My mother, smart as she was, didn’t go to college. The CNN brass did. They should know better, but for them the bottom line is what counts. And the bottom line grew bigger when CNN began to be seen as the anti-Trump network. The brass didn’t want their viewers’ minds to be confused by the law or the facts. Trump was guilty; that’s all they needed to know.\n",
      "This simplistic perspective insults the intelligence and open-mindedness of many CNN viewers who email me, saying that they miss my contrarian views. But the CNN brass apparentlyprefer the absolute certainty of, say, attorney Michael Avenatti — “I guarantee Trump will notserve out his term” — to my calibrated legal analysis.\n",
      "ADVERTISEMENT\n",
      "Well, my calibrated views turned out to be largely right, while CNN’s wishful thinking turned out to be largely wrong. That isn’t because I’m smarter than the CNN execs. It’s because I don’t allow my political preferences to substitute for objective legal analysis.\n",
      "Jeff Zucker has said that he is “entirely comfortable” with CNN’s coverage. Of course he and his company’s shareholders are comfortable: Their one-sided coverage earned the network lots of money.\n",
      "But they shouldn’t be comfortable with the quality of their on-air performance. They should review the footage and require those who were demonstrably wrong to listen to how badly they misled their viewers.\n",
      "So let’s hope that CNN, and other media that got it wrong, will reassess their approach to divisive, controversial issues. Their viewers are entitled to hear contrary views, even those that make them uncomfortable.\n",
      "Jeff Zucker should be uncomfortable, rather than smug, about what his network did — and didn’t do. It did not well serve its viewers, or the American public.\n",
      "Alan M. Dershowitz is the Felix Frankfurter Professor of Law, Emeritus, at Harvard Law School. His new book is “The Case Against the Democratic House Impeaching Trump.” You can follow him on Twitter @AlanDersh.\n"
     ]
    },
    {
     "ename": "SyntaxError",
     "evalue": "'return' outside function (<ipython-input-5-5bb385b7c460>, line 10)",
     "output_type": "error",
     "traceback": [
      "\u001b[1;36m  File \u001b[1;32m\"<ipython-input-5-5bb385b7c460>\"\u001b[1;36m, line \u001b[1;32m10\u001b[0m\n\u001b[1;33m    return paragraph.text\u001b[0m\n\u001b[1;37m                         ^\u001b[0m\n\u001b[1;31mSyntaxError\u001b[0m\u001b[1;31m:\u001b[0m 'return' outside function\n"
     ]
    }
   ],
   "source": [
    "import requests\n",
    "import justext\n",
    "\n",
    "response = requests.get(\"https://thehill.com/opinion/white-house/436059-alan-dershowitz-how-cnn-misled-its-viewers\")\n",
    "paragraphs = justext.justext(response.content, justext.get_stoplist(\"English\"))\n",
    "for paragraph in paragraphs:\n",
    "  if not paragraph.is_boilerplate:\n",
    "    print (paragraph.text)\n",
    "    \n",
    "return paragraph.text"
   ]
  },
  {
   "cell_type": "code",
   "execution_count": null,
   "metadata": {},
   "outputs": [],
   "source": []
  }
 ],
 "metadata": {
  "kernelspec": {
   "display_name": "Python 3",
   "language": "python",
   "name": "python3"
  },
  "language_info": {
   "codemirror_mode": {
    "name": "ipython",
    "version": 3
   },
   "file_extension": ".py",
   "mimetype": "text/x-python",
   "name": "python",
   "nbconvert_exporter": "python",
   "pygments_lexer": "ipython3",
   "version": "3.7.0"
  }
 },
 "nbformat": 4,
 "nbformat_minor": 2
}
