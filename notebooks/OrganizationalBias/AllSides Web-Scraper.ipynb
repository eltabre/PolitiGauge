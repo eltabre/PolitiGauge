{
 "cells": [
  {
   "cell_type": "markdown",
   "metadata": {},
   "source": [
    "# Updating Allsides Web Scraper\n",
    "## Get basic AllSides data"
   ]
  },
  {
   "cell_type": "code",
   "execution_count": 67,
   "metadata": {},
   "outputs": [],
   "source": [
    "import json, requests, pandas as pd\n",
    "from pandas.io.json import json_normalize\n",
    "from bs4 import BeautifulSoup\n",
    "from copy import deepcopy\n",
    "from tqdm import tqdm_notebook\n",
    "#import tqdm from tqdm     <--- for non-Jupyter Notebook\n",
    "\n",
    "def scrape_page(url, data):\n",
    "    r = requests.get(url)\n",
    "    soup = BeautifulSoup(r.content, 'html.parser')\n",
    "    rows = soup.select('tbody tr')\n",
    "\n",
    "    for row in rows:\n",
    "        d = dict()\n",
    "\n",
    "        d['name'] = row.select_one('.source-title').text.strip()\n",
    "        d['bias'] = row.select_one('.views-field-field-bias-image a')['href'].split('/')[-1]\n",
    "        d['allsides_page'] = 'https://www.allsides.com' + row.select_one('.source-title a')['href']\n",
    "        d['agree'] = int(row.select_one('.agree').text)\n",
    "        d['disagree'] = int(row.select_one('.disagree').text)\n",
    "        try:\n",
    "            ratio = d['agree'] / d['disagree']\n",
    "            d['agree_ratio'] = ratio\n",
    "        except ZeroDivisionError:\n",
    "            d['agree_ratio'] = 1\n",
    "        d['agreeance_text'] = get_agreeance_text(d['agree_ratio'])\n",
    "\n",
    "        data.append(d)\n",
    "     \n",
    "    # This takes like 90 mins because request limit is 10 secs\n",
    "    #get_details(data)\n",
    "    \n",
    "\n",
    "    \n",
    "def get_agreeance_text(ratio):\n",
    "    if ratio > 3: return \"absolutely agrees\"\n",
    "    elif 2 < ratio <= 3: return \"strongly agrees\"\n",
    "    elif 1.5 < ratio <= 2: return \"agrees\"\n",
    "    elif 1 < ratio <= 1.5: return \"somewhat agrees\"\n",
    "    elif ratio == 1: return \"neutral\"\n",
    "    elif 0.67 < ratio < 1: return \"somewhat disagrees\"\n",
    "    elif 0.5 < ratio <= 0.67: return \"disagrees\"\n",
    "    elif 0.33 < ratio <= 0.5: return \"strongly disagrees\"\n",
    "    elif ratio <= 0.33: return \"absolutely disagrees\"\n",
    "    else: return None\n",
    "    \n",
    "    \n",
    "def get_details(data):\n",
    "    for d in tqdm_notebook(data):\n",
    "        sleep(10)\n",
    "        \n",
    "        r = requests.get(d['allsides_page'])\n",
    "        soup = BeautifulSoup(r.content, 'html.parser')\n",
    "\n",
    "        try:\n",
    "            confidence = soup.select_one('.confidence-level strong').text.strip()\n",
    "            d['confidence'] = confidence\n",
    "        except TypeError:\n",
    "            pass\n",
    "        try:\n",
    "            website = soup.select_one('.www')['href']\n",
    "            d['website_url'] = website\n",
    "        except TypeError:\n",
    "            pass\n",
    "#         try:\n",
    "#             twitter = soup.select_one('.twitter')['href']\n",
    "#             d['twitter_url'] = twitter\n",
    "#         except TypeError:\n",
    "#             pass\n",
    "#         try:\n",
    "#             facebook = soup.select_one('.facebook')['href']\n",
    "#             d['facebook_url'] = website\n",
    "#         except TypeError:\n",
    "#             pass"
   ]
  },
  {
   "cell_type": "markdown",
   "metadata": {},
   "source": [
    "## Main Script"
   ]
  },
  {
   "cell_type": "code",
   "execution_count": 68,
   "metadata": {},
   "outputs": [
    {
     "data": {
      "application/vnd.jupyter.widget-view+json": {
       "model_id": "e804395c44fa4bf19abc0a2ad56d59dd",
       "version_major": 2,
       "version_minor": 0
      },
      "text/plain": [
       "HBox(children=(IntProgress(value=0), HTML(value='')))"
      ]
     },
     "metadata": {},
     "output_type": "display_data"
    },
    {
     "data": {
      "application/vnd.jupyter.widget-view+json": {
       "model_id": "f99aa43c66554ca593ead08a3f93bab8",
       "version_major": 2,
       "version_minor": 0
      },
      "text/plain": [
       "HBox(children=(IntProgress(value=0, max=200), HTML(value='')))"
      ]
     },
     "metadata": {},
     "output_type": "display_data"
    },
    {
     "data": {
      "application/vnd.jupyter.widget-view+json": {
       "model_id": "10b436e30c4a4fc89f2bef47b5683966",
       "version_major": 2,
       "version_minor": 0
      },
      "text/plain": [
       "HBox(children=(IntProgress(value=0, max=260), HTML(value='')))"
      ]
     },
     "metadata": {},
     "output_type": "display_data"
    }
   ],
   "source": [
    "from copy import deepcopy\n",
    "from tqdm import tqdm_notebook\n",
    "from time import sleep\n",
    "import json\n",
    "\n",
    "\n",
    "data = []\n",
    "\n",
    "pages = [\n",
    "    'https://www.allsides.com/media-bias/media-bias-ratings?field_featured_bias_rating_value=All&field_news_source_type_tid%5B1%5D=1&field_news_source_type_tid%5B2%5D=2&field_news_bias_nid%5B2%5D=2&field_news_bias_nid%5B3%5D=3&field_news_bias_nid%5B4%5D=4&title=&customFilter=1',\n",
    "    'https://www.allsides.com/media-bias/media-bias-ratings?field_featured_bias_rating_value=All&field_news_source_type_tid%5B1%5D=1&field_news_source_type_tid%5B2%5D=2&field_news_bias_nid%5B2%5D=2&field_news_bias_nid%5B3%5D=3&field_news_bias_nid%5B4%5D=4&title=&customFilter=1&page=1',\n",
    "    'https://www.allsides.com/media-bias/media-bias-ratings?field_featured_bias_rating_value=All&field_news_source_type_tid%5B1%5D=1&field_news_source_type_tid%5B2%5D=2&field_news_bias_nid%5B2%5D=2&field_news_bias_nid%5B3%5D=3&field_news_bias_nid%5B4%5D=4&title=&customFilter=1&page=2'\n",
    "    'https://www.allsides.com/media-bias/media-bias-ratings?field_featured_bias_rating_value=All&field_news_source_type_tid%5B1%5D=1&field_news_source_type_tid%5B2%5D=2&field_news_bias_nid%5B2%5D=2&field_news_bias_nid%5B3%5D=3&field_news_bias_nid%5B4%5D=4&title=&customFilter=1&page=3'\n",
    "    'https://www.allsides.com/media-bias/media-bias-ratings?field_featured_bias_rating_value=All&field_news_source_type_tid%5B1%5D=1&field_news_source_type_tid%5B2%5D=2&field_news_bias_nid%5B2%5D=2&field_news_bias_nid%5B3%5D=3&field_news_bias_nid%5B4%5D=4&title=&customFilter=1&page=4'\n",
    "]\n",
    "\n",
    "for p in pages:\n",
    "    scrape_page(p, data)\n",
    "    sleep(10)\n",
    "    \n",
    "\n",
    "with open('AllSidesALL.json', 'w') as f:\n",
    "    json.dump(data, f)\n",
    "    \n",
    "    \n",
    "#To open it back up:\n",
    "# with open('allsides.json', 'r') as f:\n",
    "#     data = json.load(f)"
   ]
  },
  {
   "cell_type": "code",
   "execution_count": null,
   "metadata": {},
   "outputs": [],
   "source": []
  }
 ],
 "metadata": {
  "kernelspec": {
   "display_name": "Python 3",
   "language": "python",
   "name": "python3"
  },
  "language_info": {
   "codemirror_mode": {
    "name": "ipython",
    "version": 3
   },
   "file_extension": ".py",
   "mimetype": "text/x-python",
   "name": "python",
   "nbconvert_exporter": "python",
   "pygments_lexer": "ipython3",
   "version": "3.7.0"
  }
 },
 "nbformat": 4,
 "nbformat_minor": 2
}
