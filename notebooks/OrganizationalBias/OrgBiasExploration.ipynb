{
 "cells": [
  {
   "cell_type": "markdown",
   "metadata": {},
   "source": [
    "# Organizational Bias Exploration \n",
    "#### Pulling data from MediaBiasFactCheck.com and AllSides.com\n",
    "\n",
    "Matthew Fishman, Practicum Milestone 1"
   ]
  },
  {
   "cell_type": "markdown",
   "metadata": {},
   "source": [
    "### Get/Clean Data"
   ]
  },
  {
   "cell_type": "code",
   "execution_count": 109,
   "metadata": {},
   "outputs": [],
   "source": [
    "import json, pandas as pd\n",
    "from pandas.io.json import json_normalize\n",
    "\n",
    "# AllSides data\n",
    "dfAllSides = pd.read_json('AllSidesALL.json')\n",
    "dfAllSides = dfAllSides.set_index('name')\n",
    "dfAllSides['total_votes'] = dfAllSides.apply(lambda row: row.agree + row.disagree, axis=1)\n",
    "dfAllSides = dfAllSides[['bias','confidence','agree_ratio','total_votes','agreeance_text']]  #website_url omitted\n",
    "dfAllSides = dfAllSides.rename(columns={'agreeance_text':'community_response'})\n",
    "\n",
    "\n",
    "# MediaBiasFactCheck data\n",
    "dfMBFC = pd.read_json('MBFCsourcesALL.json')\n",
    "dfMBFC = dfMBFC.T\n",
    "dfMBFC = dfMBFC.set_index(\"name\")\n",
    "dfMBFC = dfMBFC[dfMBFC.bias != '']\n",
    "dfMBFC = dfMBFC[['bias','homepage','facebook_url']]\n",
    "dfMBFC = dfMBFC.rename(columns={'homepage':'website_url'})"
   ]
  },
  {
   "cell_type": "markdown",
   "metadata": {},
   "source": [
    "### Normalize Data"
   ]
  },
  {
   "cell_type": "code",
   "execution_count": null,
   "metadata": {},
   "outputs": [],
   "source": [
    "# Figure out possible values\n",
    "set(dfAllSides.bias)\n",
    "#{'allsides', 'center', 'lean left', 'lean right', 'left', 'mixed', 'right'}\n",
    "\n",
    "set(dfMBFCAdj.bias)\n",
    "#{center', 'conspiracy', 'fake-news', 'left', 'left-center', 'pro-science', 'right', 'right-center', 'satire'}\n"
   ]
  },
  {
   "cell_type": "code",
   "execution_count": 112,
   "metadata": {},
   "outputs": [],
   "source": [
    "# Drop 'mixed/allsides' sites that give perspectives from both sides of the policial spectrum\n",
    "dfAllSides = dfAllSides[(dfAllSides.bias != 'mixed')\n",
    "                       & (dfAllSides.bias != 'allsides')]\n",
    "\n",
    "\n",
    "# Drop non-political scale sources (about 900/2500)\n",
    "dfMBFC = dfMBFC[(dfMBFC.bias != 'conspiracy') \n",
    "                & (dfMBFC.bias != 'fake-news') \n",
    "                & (dfMBFC.bias !='pro-science') \n",
    "                & (dfMBFC.bias != 'satire')]\n",
    "\n",
    "# Remove the four duplicates\n",
    "dfMBFC = dfMBFC[~dfMBFC.index.duplicated(keep='first')]"
   ]
  },
  {
   "cell_type": "code",
   "execution_count": null,
   "metadata": {},
   "outputs": [],
   "source": [
    "#get total ratings for AllSides\n",
    "dfAllSides.shape"
   ]
  },
  {
   "cell_type": "code",
   "execution_count": null,
   "metadata": {},
   "outputs": [],
   "source": [
    "#get total ratings for AllSides\n",
    "dfMBFC.shape"
   ]
  },
  {
   "cell_type": "markdown",
   "metadata": {},
   "source": [
    "## Data Visualizations"
   ]
  },
  {
   "cell_type": "code",
   "execution_count": null,
   "metadata": {},
   "outputs": [],
   "source": [
    "#get number of agreed-upon ratings\n",
    "# dfMerged = pd.merge(dfAllSides, dfMBFC, how='inner')\n",
    "# dfMerged = dfMerged.drop_duplicates()\n",
    "# dfMerged\n",
    "#dfMerged.shape"
   ]
  },
  {
   "cell_type": "code",
   "execution_count": null,
   "metadata": {},
   "outputs": [],
   "source": [
    "import seaborn as sns\n",
    "import matplotlib.pyplot as plt\n",
    "sns.set(style=\"white\")\n",
    "\n",
    "#Get most popular agreed-upon news sources\n",
    "dfMergedPop = dfMerged.loc[dfMerged['total_votes'] > 93]\n",
    "\n",
    "#Graph them\n",
    "ax = sns.stripplot('bias', 'Popularity', data=dfMergedPop, \n",
    "                   order=['left', 'left-center', 'center', 'right-center', 'right'], \n",
    "                   palette=sns.diverging_palette(258, 12, n=5), edgecolor='black', linewidth=.5)\n",
    "plt.title('Top 25 Media Sources with Confirmed Bias')\n",
    "plt.xlabel('Political Bias')\n",
    "plt.ylabel('Popularity')\n",
    "\n",
    "#Label them\n",
    "def label_point(category, y, val, ax):\n",
    "    spacing = .1\n",
    "    a = pd.concat({'x': category, 'y': y, 'val': val}, axis=1)\n",
    "    for j, point in a.iterrows():\n",
    "        ax.text(point['x']+.02, point['y']+spacing, str(point['val']))\n",
    "        spacing *= -1\n",
    "\n",
    "\n",
    "dfBiasLoc = dfMergedPop.bias\n",
    "dfMergedPop.loc[dfMergedPop.bias == \"left\", 'pos'] = 0.1\n",
    "dfMergedPop.loc[dfMergedPop.bias == \"left-center\", 'pos'] = 1.1\n",
    "dfMergedPop.loc[dfMergedPop.bias == \"center\", 'pos'] = 2.1\n",
    "dfMergedPop.loc[dfMergedPop.bias == \"right-center\", 'pos'] = 3.1\n",
    "dfMergedPop.loc[dfMergedPop.bias == \"right\", 'pos'] = 4.1\n",
    "label_point(dfMergedPop.pos, dfMergedPop.Popularity, dfMergedPop.name, plt.gca())  "
   ]
  },
  {
   "cell_type": "code",
   "execution_count": 108,
   "metadata": {},
   "outputs": [],
   "source": [
    "#Export cleaned data\n",
    "dfAllSides.to_json(r'C:\\Users\\Matthew\\OneDrive\\Semester 8\\Data Science Capstone\\PolitiGauge\\notebooks\\OrganizationalBias\\CleanedAllSides.json',orient=\"index\")\n",
    "dfMBFC.to_json(r'C:\\Users\\Matthew\\OneDrive\\Semester 8\\Data Science Capstone\\PolitiGauge\\notebooks\\OrganizationalBias\\CleanedMBFC.json',orient=\"index\")"
   ]
  }
 ],
 "metadata": {
  "kernelspec": {
   "display_name": "Python 3",
   "language": "python",
   "name": "python3"
  },
  "language_info": {
   "codemirror_mode": {
    "name": "ipython",
    "version": 3
   },
   "file_extension": ".py",
   "mimetype": "text/x-python",
   "name": "python",
   "nbconvert_exporter": "python",
   "pygments_lexer": "ipython3",
   "version": "3.7.0"
  }
 },
 "nbformat": 4,
 "nbformat_minor": 2
}
