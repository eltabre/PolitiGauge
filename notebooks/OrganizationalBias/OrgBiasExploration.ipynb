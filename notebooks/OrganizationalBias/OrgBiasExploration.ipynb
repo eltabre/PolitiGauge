{
 "cells": [
  {
   "cell_type": "markdown",
   "metadata": {},
   "source": [
    "# Organizational Bias Exploration \n",
    "#### Pulling data from MediaBiasFactCheck.com and AllSides.com\n",
    "\n",
    "Matthew Fishman, Practicum Milestone 1"
   ]
  },
  {
   "cell_type": "markdown",
   "metadata": {},
   "source": [
    "### Get/Clean Data"
   ]
  },
  {
   "cell_type": "code",
   "execution_count": 24,
   "metadata": {},
   "outputs": [],
   "source": [
    "import json, pandas as pd\n",
    "from pandas.io.json import json_normalize\n",
    "\n",
    "# AllSides data\n",
    "dfAllSides = pd.read_json('AllSidesALL.json')\n",
    "dfAllSides['name'] = dfAllSides['name'].str.replace('!', '')\n",
    "dfAllSides = dfAllSides.set_index('website_url')\n",
    "dfAllSides['total_votes'] = dfAllSides.apply(lambda row: row.agree + row.disagree, axis=1)\n",
    "dfAllSides = dfAllSides[['bias','confidence','agree_ratio','total_votes','agreeance_text','name']]  #website_url omitted\n",
    "dfAllSides = dfAllSides.rename(columns={'agreeance_text':'community_response'})\n",
    "\n",
    "\n",
    "# MediaBiasFactCheck data\n",
    "dfMBFC = pd.read_json('MBFCsourcesALL.json')\n",
    "dfMBFC = dfMBFC.T\n",
    "# dfMBFC = dfMBFC.set_index(\"name\")\n",
    "dfMBFC = dfMBFC[dfMBFC.bias != '']\n",
    "dfMBFC = dfMBFC[['bias','homepage','facebook_url']]\n",
    "dfMBFC = dfMBFC.rename(columns={'homepage':'website_url'})"
   ]
  },
  {
   "cell_type": "markdown",
   "metadata": {},
   "source": [
    "### Normalize Data"
   ]
  },
  {
   "cell_type": "code",
   "execution_count": 11,
   "metadata": {},
   "outputs": [
    {
     "data": {
      "text/plain": [
       "{'center',\n",
       " 'conspiracy',\n",
       " 'fake-news',\n",
       " 'left',\n",
       " 'left-center',\n",
       " 'pro-science',\n",
       " 'right',\n",
       " 'right-center',\n",
       " 'satire'}"
      ]
     },
     "execution_count": 11,
     "metadata": {},
     "output_type": "execute_result"
    }
   ],
   "source": [
    "# Figure out possible values\n",
    "set(dfAllSides.bias)\n",
    "#{'allsides', 'center', 'lean left', 'lean right', 'left', 'mixed', 'right'}\n",
    "\n",
    "set(dfMBFC.bias)\n",
    "#{center', 'conspiracy', 'fake-news', 'left', 'left-center', 'pro-science', 'right', 'right-center', 'satire'}\n"
   ]
  },
  {
   "cell_type": "code",
   "execution_count": 25,
   "metadata": {},
   "outputs": [],
   "source": [
    "# Drop 'mixed/allsides' sites that give perspectives from both sides of the policial spectrum\n",
    "dfAllSides = dfAllSides[(dfAllSides.bias != 'mixed')\n",
    "                       & (dfAllSides.bias != 'allsides')]\n",
    "dfAllSides = dfAllSides[~dfAllSides.index.duplicated(keep='first')]\n",
    "\n",
    "\n",
    "# dfAllSides\n",
    "\n",
    "dfAllSides.to_json(r'C:\\Users\\Matthew\\OneDrive\\Semester 8\\Data Science Capstone\\PolitiGauge\\Extension\\AllSidesFinal.json')\n",
    "\n",
    "\n",
    "\n",
    "# # Drop non-political scale sources (about 900/2500)\n",
    "dfMBFC = dfMBFC[(dfMBFC.bias != 'conspiracy') \n",
    "                & (dfMBFC.bias != 'fake-news') \n",
    "                & (dfMBFC.bias !='pro-science') \n",
    "                & (dfMBFC.bias != 'satire')]\n",
    "\n",
    "# Remove the four duplicates\n",
    "dfMBFC = dfMBFC[~dfMBFC.index.duplicated(keep='first')]\n",
    "dfMBFC\n",
    "\n",
    "dfMBFC.to_json(r'C:\\Users\\Matthew\\OneDrive\\Semester 8\\Data Science Capstone\\PolitiGauge\\Extension\\MBFCFinal.json')"
   ]
  },
  {
   "cell_type": "code",
   "execution_count": 4,
   "metadata": {},
   "outputs": [
    {
     "data": {
      "text/plain": [
       "(263, 6)"
      ]
     },
     "execution_count": 4,
     "metadata": {},
     "output_type": "execute_result"
    }
   ],
   "source": [
    "#get total ratings for AllSides\n",
    "dfAllSides.shape"
   ]
  },
  {
   "cell_type": "code",
   "execution_count": 5,
   "metadata": {},
   "outputs": [
    {
     "data": {
      "text/plain": [
       "(1554, 3)"
      ]
     },
     "execution_count": 5,
     "metadata": {},
     "output_type": "execute_result"
    }
   ],
   "source": [
    "#get total ratings for AllSides\n",
    "dfMBFC.shape"
   ]
  },
  {
   "cell_type": "code",
   "execution_count": 7,
   "metadata": {},
   "outputs": [
    {
     "ename": "ValueError",
     "evalue": "DataFrame index must be unique for orient='columns'.",
     "output_type": "error",
     "traceback": [
      "\u001b[1;31m---------------------------------------------------------------------------\u001b[0m",
      "\u001b[1;31mValueError\u001b[0m                                Traceback (most recent call last)",
      "\u001b[1;32m<ipython-input-7-e8c63cb2d837>\u001b[0m in \u001b[0;36m<module>\u001b[1;34m\u001b[0m\n\u001b[0;32m      6\u001b[0m \u001b[0mdfMerged\u001b[0m \u001b[1;33m=\u001b[0m \u001b[0mdfMerged\u001b[0m\u001b[1;33m.\u001b[0m\u001b[0mdrop_duplicates\u001b[0m\u001b[1;33m(\u001b[0m\u001b[1;33m)\u001b[0m\u001b[1;33m\u001b[0m\u001b[0m\n\u001b[0;32m      7\u001b[0m \u001b[1;33m\u001b[0m\u001b[0m\n\u001b[1;32m----> 8\u001b[1;33m \u001b[0mdfMerged\u001b[0m\u001b[1;33m.\u001b[0m\u001b[0mto_json\u001b[0m\u001b[1;33m(\u001b[0m\u001b[1;34mr'\\OrgDataMerged.json'\u001b[0m\u001b[1;33m)\u001b[0m\u001b[1;33m\u001b[0m\u001b[0m\n\u001b[0m\u001b[0;32m      9\u001b[0m \u001b[1;31m# set(dfAllSides.confidence)\u001b[0m\u001b[1;33m\u001b[0m\u001b[1;33m\u001b[0m\u001b[0m\n",
      "\u001b[1;32mc:\\users\\matthew\\appdata\\local\\programs\\python\\python37\\lib\\site-packages\\pandas\\core\\generic.py\u001b[0m in \u001b[0;36mto_json\u001b[1;34m(self, path_or_buf, orient, date_format, double_precision, force_ascii, date_unit, default_handler, lines, compression, index)\u001b[0m\n\u001b[0;32m   2272\u001b[0m                             \u001b[0mdefault_handler\u001b[0m\u001b[1;33m=\u001b[0m\u001b[0mdefault_handler\u001b[0m\u001b[1;33m,\u001b[0m\u001b[1;33m\u001b[0m\u001b[0m\n\u001b[0;32m   2273\u001b[0m                             \u001b[0mlines\u001b[0m\u001b[1;33m=\u001b[0m\u001b[0mlines\u001b[0m\u001b[1;33m,\u001b[0m \u001b[0mcompression\u001b[0m\u001b[1;33m=\u001b[0m\u001b[0mcompression\u001b[0m\u001b[1;33m,\u001b[0m\u001b[1;33m\u001b[0m\u001b[0m\n\u001b[1;32m-> 2274\u001b[1;33m                             index=index)\n\u001b[0m\u001b[0;32m   2275\u001b[0m \u001b[1;33m\u001b[0m\u001b[0m\n\u001b[0;32m   2276\u001b[0m     \u001b[1;32mdef\u001b[0m \u001b[0mto_hdf\u001b[0m\u001b[1;33m(\u001b[0m\u001b[0mself\u001b[0m\u001b[1;33m,\u001b[0m \u001b[0mpath_or_buf\u001b[0m\u001b[1;33m,\u001b[0m \u001b[0mkey\u001b[0m\u001b[1;33m,\u001b[0m \u001b[1;33m**\u001b[0m\u001b[0mkwargs\u001b[0m\u001b[1;33m)\u001b[0m\u001b[1;33m:\u001b[0m\u001b[1;33m\u001b[0m\u001b[0m\n",
      "\u001b[1;32mc:\\users\\matthew\\appdata\\local\\programs\\python\\python37\\lib\\site-packages\\pandas\\io\\json\\json.py\u001b[0m in \u001b[0;36mto_json\u001b[1;34m(path_or_buf, obj, orient, date_format, double_precision, force_ascii, date_unit, default_handler, lines, compression, index)\u001b[0m\n\u001b[0;32m     60\u001b[0m         \u001b[0mdouble_precision\u001b[0m\u001b[1;33m=\u001b[0m\u001b[0mdouble_precision\u001b[0m\u001b[1;33m,\u001b[0m \u001b[0mensure_ascii\u001b[0m\u001b[1;33m=\u001b[0m\u001b[0mforce_ascii\u001b[0m\u001b[1;33m,\u001b[0m\u001b[1;33m\u001b[0m\u001b[0m\n\u001b[0;32m     61\u001b[0m         \u001b[0mdate_unit\u001b[0m\u001b[1;33m=\u001b[0m\u001b[0mdate_unit\u001b[0m\u001b[1;33m,\u001b[0m \u001b[0mdefault_handler\u001b[0m\u001b[1;33m=\u001b[0m\u001b[0mdefault_handler\u001b[0m\u001b[1;33m,\u001b[0m\u001b[1;33m\u001b[0m\u001b[0m\n\u001b[1;32m---> 62\u001b[1;33m         index=index).write()\n\u001b[0m\u001b[0;32m     63\u001b[0m \u001b[1;33m\u001b[0m\u001b[0m\n\u001b[0;32m     64\u001b[0m     \u001b[1;32mif\u001b[0m \u001b[0mlines\u001b[0m\u001b[1;33m:\u001b[0m\u001b[1;33m\u001b[0m\u001b[0m\n",
      "\u001b[1;32mc:\\users\\matthew\\appdata\\local\\programs\\python\\python37\\lib\\site-packages\\pandas\\io\\json\\json.py\u001b[0m in \u001b[0;36m__init__\u001b[1;34m(self, obj, orient, date_format, double_precision, ensure_ascii, date_unit, index, default_handler)\u001b[0m\n\u001b[0;32m     94\u001b[0m \u001b[1;33m\u001b[0m\u001b[0m\n\u001b[0;32m     95\u001b[0m         \u001b[0mself\u001b[0m\u001b[1;33m.\u001b[0m\u001b[0mis_copy\u001b[0m \u001b[1;33m=\u001b[0m \u001b[1;32mNone\u001b[0m\u001b[1;33m\u001b[0m\u001b[0m\n\u001b[1;32m---> 96\u001b[1;33m         \u001b[0mself\u001b[0m\u001b[1;33m.\u001b[0m\u001b[0m_format_axes\u001b[0m\u001b[1;33m(\u001b[0m\u001b[1;33m)\u001b[0m\u001b[1;33m\u001b[0m\u001b[0m\n\u001b[0m\u001b[0;32m     97\u001b[0m \u001b[1;33m\u001b[0m\u001b[0m\n\u001b[0;32m     98\u001b[0m     \u001b[1;32mdef\u001b[0m \u001b[0m_format_axes\u001b[0m\u001b[1;33m(\u001b[0m\u001b[0mself\u001b[0m\u001b[1;33m)\u001b[0m\u001b[1;33m:\u001b[0m\u001b[1;33m\u001b[0m\u001b[0m\n",
      "\u001b[1;32mc:\\users\\matthew\\appdata\\local\\programs\\python\\python37\\lib\\site-packages\\pandas\\io\\json\\json.py\u001b[0m in \u001b[0;36m_format_axes\u001b[1;34m(self)\u001b[0m\n\u001b[0;32m    145\u001b[0m                 'index', 'columns'):\n\u001b[0;32m    146\u001b[0m             raise ValueError(\"DataFrame index must be unique for orient=\"\n\u001b[1;32m--> 147\u001b[1;33m                              \"'{orient}'.\".format(orient=self.orient))\n\u001b[0m\u001b[0;32m    148\u001b[0m         if not self.obj.columns.is_unique and self.orient in (\n\u001b[0;32m    149\u001b[0m                 'index', 'columns', 'records'):\n",
      "\u001b[1;31mValueError\u001b[0m: DataFrame index must be unique for orient='columns'."
     ]
    }
   ],
   "source": [
    "# All data\n",
    "dfMerged = dfAllSides.merge(dfMBFC, how='outer', left_index=True, right_index=True)\n",
    "\n",
    "# Just common media sources\n",
    "# dfMerged = pd.merge(dfAllSides, dfMBFC, left_index=True, right_index=True)\n",
    "dfMerged = dfMerged.drop_duplicates()\n",
    "\n",
    "dfMerged.to_json(r'\\OrgDataMerged.json')\n",
    "# set(dfAllSides.confidence)"
   ]
  },
  {
   "cell_type": "markdown",
   "metadata": {},
   "source": [
    "## Data Visualizations"
   ]
  },
  {
   "cell_type": "code",
   "execution_count": 14,
   "metadata": {},
   "outputs": [
    {
     "data": {
      "image/png": "[encoded data removed]",
      "text/plain": [
       "<Figure size 432x288 with 1 Axes>"
      ]
     },
     "metadata": {
      "needs_background": "light"
     },
     "output_type": "display_data"
    }
   ],
   "source": [
    "import seaborn as sns\n",
    "import matplotlib.pyplot as plt\n",
    "import numpy as np\n",
    "\n",
    "#for every news source in AllSides,\n",
    "#  Split up into agree ratios and show chart\n",
    "\n",
    "\n",
    "#Get average agree ratio for AllSides by political bias\n",
    "def getAvgAgreeRatio(dfBias):\n",
    "    left = dfAllSides.loc[dfAllSides['bias'] == 'left'].loc[:,\"agree_ratio\"].mean()\n",
    "    centerLeft = dfAllSides.loc[dfAllSides['bias'] == 'left-center'].loc[:,\"agree_ratio\"].mean()\n",
    "    center = dfAllSides.loc[dfAllSides['bias'] == 'center'].loc[:,\"agree_ratio\"].mean()\n",
    "    centerRight = dfAllSides.loc[dfAllSides['bias'] == 'right-center'].loc[:,\"agree_ratio\"].mean()\n",
    "    right = dfAllSides.loc[dfAllSides['bias'] == 'right'].loc[:,\"agree_ratio\"].mean()\n",
    "    return left, centerLeft, center, centerRight, right\n",
    "\n",
    "fig, ax = plt.subplots()\n",
    "ind = np.arange(5)\n",
    "\n",
    "left, centerLeft, center, centerRight, right = plt.bar(ind, getAvgAgreeRatio(dfAllSides))\n",
    "left.set_facecolor('b')\n",
    "centerLeft.set_facecolor('b')\n",
    "centerLeft.set_alpha(0.5)\n",
    "center.set_facecolor('purple')\n",
    "centerRight.set_facecolor('r')\n",
    "centerRight.set_alpha(0.5)\n",
    "right.set_facecolor('r')\n",
    "\n",
    "ax.set_xticks(ind)\n",
    "ax.set_xticklabels(['Left', 'Left-Center', 'Center', 'Right-Center', 'Right'])\n",
    "ax.set_xlabel('Political Bias (AllSides)')\n",
    "ax.set_ylim([0, 2])\n",
    "ax.set_ylabel('Avg. Agree Ratio')\n",
    "ax.set_title('AllSides Reader Agreement Ratio')\n",
    "\n",
    "# show the figure, but do not block\n",
    "plt.show(block=False)"
   ]
  },
  {
   "cell_type": "code",
   "execution_count": 15,
   "metadata": {},
   "outputs": [
    {
     "data": {
      "image/png": "[encoded data removed]",
      "text/plain": [
       "<Figure size 432x288 with 1 Axes>"
      ]
     },
     "metadata": {
      "needs_background": "light"
     },
     "output_type": "display_data"
    }
   ],
   "source": [
    "import seaborn as sns\n",
    "import matplotlib.pyplot as plt\n",
    "import numpy as np\n",
    "\n",
    "#Get confidence level on split bar chart \n",
    "\n",
    "def getConfidence(biasLevel):\n",
    "    L = len(dfBiasL.loc[dfBiasL['confidence'] == biasLevel].index)\n",
    "    totalL = len(dfBiasL.index)\n",
    "    LC = len(dfBiasLC.loc[dfBiasLC['confidence'] == biasLevel].index)\n",
    "    totalLC = len(dfBiasLC.index)\n",
    "    C = len(dfBiasC.loc[dfBiasC['confidence'] == biasLevel].index)\n",
    "    totalC = len(dfBiasC.index)\n",
    "    RC = len(dfBiasRC.loc[dfBiasRC['confidence'] == biasLevel].index)\n",
    "    totalRC = len(dfBiasRC.index)\n",
    "    R = len(dfBiasR.loc[dfBiasR['confidence'] == biasLevel].index)\n",
    "    totalR = len(dfBiasR.index)\n",
    "    \n",
    "    return [100*L/totalL, 100*LC/totalLC, 100*C/totalC, 100*RC/totalRC, 100*R/totalR]\n",
    "\n",
    "\n",
    "N = 5\n",
    "dfBiasL = dfAllSides.loc[dfAllSides['bias'] == 'left']\n",
    "dfBiasLC = dfAllSides.loc[dfAllSides['bias'] == 'left-center']\n",
    "dfBiasC = dfAllSides.loc[dfAllSides['bias'] == 'center']\n",
    "dfBiasRC = dfAllSides.loc[dfAllSides['bias'] == 'right-center']\n",
    "dfBiasR = dfAllSides.loc[dfAllSides['bias'] == 'center']\n",
    "\n",
    "highConfidence = getConfidence('High')\n",
    "mediumConfidence = getConfidence('Medium')\n",
    "initialConfidence = getConfidence('Low or Initial Rating')\n",
    "noConfidence = getConfidence('Not Available')\n",
    "    \n",
    "ind = np.arange(N)    # the x locations for the groups\n",
    "width = 0.35       # the width of the bars: can also be len(x) sequence\n",
    "\n",
    "\n",
    "updatedY = [noConfidence[i]+initialConfidence[i] for i in range(len(noConfidence))]\n",
    "\n",
    "p1 = plt.bar(ind, noConfidence, width, color=('red'))\n",
    "p2 = plt.bar(ind, initialConfidence, width, color=('seaGreen'),\n",
    "             bottom=noConfidence)\n",
    "p3 = plt.bar(ind, mediumConfidence, width, color=('MediumSpringGreen'),\n",
    "             bottom=updatedY)\n",
    "updatedY2 = [updatedY[i]+mediumConfidence[i] for i in range(len(updatedY))]\n",
    "p4 = plt.bar(ind, highConfidence, width, color=('Lime'),\n",
    "             bottom=updatedY2)\n",
    "\n",
    "\n",
    "\n",
    "plt.ylabel('Confidence Level')\n",
    "plt.title('AllSides Confidence Level Spread by Bias')\n",
    "plt.xticks(ind, ('Left', 'Left-Center', 'Center', 'Right-Center', 'Right'))\n",
    "plt.yticks(np.arange(0, 101, 10))\n",
    "plt.gca().set_yticklabels(['{:.0f}%'.format(x) for x in plt.gca().get_yticks()]) \n",
    "plt.legend((p1[0], p2[0], p3[0], p4[0]), ('Not Available', 'Initial Rating', 'Medium Confidence', 'High Confidence'))\n",
    "\n",
    "plt.show()"
   ]
  },
  {
   "cell_type": "code",
   "execution_count": 18,
   "metadata": {},
   "outputs": [
    {
     "data": {
      "image/png": "[encoded data removed]",
      "text/plain": [
       "<Figure size 432x288 with 1 Axes>"
      ]
     },
     "metadata": {},
     "output_type": "display_data"
    }
   ],
   "source": [
    "import seaborn as sns\n",
    "import matplotlib.pyplot as plt\n",
    "import numpy as np\n",
    "\n",
    "#Get confidence split on PIE chart\n",
    "\n",
    "def getConfidence():\n",
    "    high = len(dfAllSides.loc[dfAllSides['confidence'] == 'High'].index)\n",
    "    medium = len(dfAllSides.loc[dfAllSides['confidence'] == 'Medium'].index)\n",
    "    low = len(dfAllSides.loc[dfAllSides['confidence'] == 'Low or Initial Rating'].index)\n",
    "    NA = len(dfAllSides.loc[dfAllSides['confidence'] == 'Not Available'].index)\n",
    "    total = len(dfAllSides.index)\n",
    "    \n",
    "    return [100*high/total, 100*medium/total, 100*low/total, 100*NA/total]\n",
    "\n",
    "\n",
    "N = 5\n",
    "\n",
    "# Some data\n",
    "labels = 'High', 'Medium', 'Initial Rating', 'Not Available'\n",
    "fracs = getConfidence()\n",
    "\n",
    "# Make figure and axes\n",
    "fig, ax = plt.subplots()\n",
    "\n",
    "# A standard pie plot\n",
    "# ax.pie(fracs, labels=labels, autopct='%1.1f%%', shadow=True)\n",
    "colorArray = ['Lime', 'MediumSpringGreen', 'SeaGreen', 'red']\n",
    "\n",
    "# Shift the second slice using explode\n",
    "ax.pie(fracs, labels=labels, colors=colorArray, autopct='%.0f%%', shadow=True,\n",
    "              explode=(0, 0, 0, 0.08))\n",
    "\n",
    "plt.title('AllSides Confidence Level Spread')\n",
    "\n",
    "\n",
    "#-------------------------------------------------------------------\n",
    "\n",
    "fig.savefig('ConfSpread.png', transparent=True)\n",
    "\n",
    "plt.show()"
   ]
  },
  {
   "cell_type": "markdown",
   "metadata": {},
   "source": [
    "### Find Amount of Discrepancy Between AllSides and MBFC"
   ]
  },
  {
   "cell_type": "code",
   "execution_count": 24,
   "metadata": {},
   "outputs": [
    {
     "data": {
      "text/plain": [
       "101"
      ]
     },
     "execution_count": 24,
     "metadata": {},
     "output_type": "execute_result"
    }
   ],
   "source": [
    "discrepancy = dfMerged.loc[dfMerged['bias_x'] != dfMerged['bias_y']]\n",
    "# discrepancy\n",
    "discrepancy_total = len(discrepancy.index)\n",
    "total = len(dfMerged.index) \n",
    "ratio_discrepancy = len(discrepancy.index)/len(dfMerged.index)     \n",
    "total\n",
    "# ratio_discrepancy\n",
    "#33.7% disagree\n",
    "#18/50 disagreed upon\n",
    "\n",
    "# discrepancy['agree_ratio'].mean()    #1.08 avg reader agreement ratio\n",
    "# len(discrepancy.loc[discrepancy['confidence'] == 'Not Available'].index)     #5/18 \n",
    "# len(discrepancy.loc[discrepancy['confidence'] == 'Low or Initial Rating'].index)      #10/18\n",
    "# len(discrepancy.loc[discrepancy['confidence'] == 'Medium'].index)      #2/18\n",
    "# len(discrepancy.loc[discrepancy['confidence'] == 'High'].index)      #1/18"
   ]
  },
  {
   "cell_type": "code",
   "execution_count": null,
   "metadata": {},
   "outputs": [],
   "source": [
    "import seaborn as sns\n",
    "import matplotlib.pyplot as plt\n",
    "sns.set(style=\"white\")\n",
    "#for every news source in AllSides,\n",
    "#  Split up into agree ratios and show chart\n",
    "\n",
    "\n",
    "#Get most popular agreed-upon news sources\n",
    "dfMergedPop = dfMerged.loc[dfMerged['total_votes'] > 93]\n",
    "\n",
    "#Graph them\n",
    "ax = sns.stripplot('bias', 'Popularity', data=dfMerged, \n",
    "                   order=['left', 'left-center', 'center', 'right-center', 'right'], \n",
    "                   palette=sns.diverging_palette(258, 12, n=5), edgecolor='black', linewidth=.5)\n",
    "plt.title('AllSides Reader Agree Ratio')\n",
    "plt.xlabel('Political Bias')\n",
    "plt.ylabel('Avg. Agree Ratio')\n",
    "\n",
    "#Label them\n",
    "def label_point(category, y, val, ax):\n",
    "    spacing = .1\n",
    "    a = pd.concat({'x': category, 'y': y, 'val': val}, axis=1)\n",
    "    for j, point in a.iterrows():\n",
    "        ax.text(point['x']+.02, point['y']+spacing, str(point['val']))\n",
    "        spacing *= -1\n",
    "\n",
    "\n",
    "dfBiasLoc = dfMergedPop.bias\n",
    "dfMergedPop.loc[dfMergedPop.bias == \"left\", 'pos'] = 0.1\n",
    "dfMergedPop.loc[dfMergedPop.bias == \"left-center\", 'pos'] = 1.1\n",
    "dfMergedPop.loc[dfMergedPop.bias == \"center\", 'pos'] = 2.1\n",
    "dfMergedPop.loc[dfMergedPop.bias == \"right-center\", 'pos'] = 3.1\n",
    "dfMergedPop.loc[dfMergedPop.bias == \"right\", 'pos'] = 4.1\n",
    "label_point(dfMergedPop.pos, dfMergedPop.Popularity, dfMergedPop.name, plt.gca())  "
   ]
  },
  {
   "cell_type": "code",
   "execution_count": null,
   "metadata": {},
   "outputs": [],
   "source": [
    "#Export cleaned data\n",
    "dfAllSides.to_json(r'C:\\Users\\Matthew\\OneDrive\\Semester 8\\Data Science Capstone\\PolitiGauge\\notebooks\\OrganizationalBias\\CleanedAllSides.json',orient=\"index\")\n",
    "dfMBFC.to_json(r'C:\\Users\\Matthew\\OneDrive\\Semester 8\\Data Science Capstone\\PolitiGauge\\notebooks\\OrganizationalBias\\CleanedMBFC.json',orient=\"index\")"
   ]
  },
  {
   "cell_type": "markdown",
   "metadata": {},
   "source": [
    "# Compare Author Data to Media Source Data"
   ]
  },
  {
   "cell_type": "code",
   "execution_count": 8,
   "metadata": {},
   "outputs": [],
   "source": [
    "import json, pandas as pd\n",
    "from pandas.io.json import json_normalize\n",
    "\n",
    "# AllSides data\n",
    "dfAllSidesAuth = pd.read_json('AllSidesAuthors.json')\n",
    "dfAllSidesAuth['name'] = dfAllSidesAuth['name'].str.replace('!', '')\n",
    "dfAllSidesAuth = dfAllSidesAuth.set_index('name')\n",
    "dfAllSidesAuth['total_votes'] = dfAllSidesAuth.apply(lambda row: row.agree + row.disagree, axis=1)\n",
    "dfAllSidesAuth = dfAllSidesAuth.rename(columns={'agreeance_text':'community_response'})\n",
    "\n",
    "# Drop 'mixed/allsides' sites that give perspectives from both sides of the policial spectrum\n",
    "dfAllSidesAuth = dfAllSidesAuth[(dfAllSidesAuth.bias != 'mixed')\n",
    "                       & (dfAllSidesAuth.bias != 'allsides')]\n",
    "\n",
    "\n",
    "dfAllSidesAuthors = dfAllSidesAuth.merge(dfAllSides, how='left', left_index=True, right_index=True)\n",
    "dfAllSidesAuthors = dfAllSidesAuthors.drop_duplicates()\n",
    "# dfAllSidesAuthors\n"
   ]
  },
  {
   "cell_type": "code",
   "execution_count": 9,
   "metadata": {},
   "outputs": [
    {
     "data": {
      "image/png": "[encoded data removed]",
      "text/plain": [
       "<Figure size 432x288 with 1 Axes>"
      ]
     },
     "metadata": {
      "needs_background": "light"
     },
     "output_type": "display_data"
    }
   ],
   "source": [
    "import seaborn as sns\n",
    "import matplotlib.pyplot as plt\n",
    "import numpy as np\n",
    "\n",
    "#Get confidence level on split bar chart \n",
    "\n",
    "def getConfidence(biasLevel):\n",
    "    L = len(dfBiasL.loc[dfBiasL['confidence'] == biasLevel].index)\n",
    "    totalL = len(dfBiasL.index)\n",
    "    LC = len(dfBiasLC.loc[dfBiasLC['confidence'] == biasLevel].index)\n",
    "    totalLC = len(dfBiasLC.index)\n",
    "    C = len(dfBiasC.loc[dfBiasC['confidence'] == biasLevel].index)\n",
    "    totalC = len(dfBiasC.index)\n",
    "    RC = len(dfBiasRC.loc[dfBiasRC['confidence'] == biasLevel].index)\n",
    "    totalRC = len(dfBiasRC.index)\n",
    "    R = len(dfBiasR.loc[dfBiasR['confidence'] == biasLevel].index)\n",
    "    totalR = len(dfBiasR.index)\n",
    "    \n",
    "    return [100*L/totalL, 100*LC/totalLC, 100*C/totalC, 100*RC/totalRC, 100*R/totalR]\n",
    "\n",
    "def getNoConfidence():\n",
    "    L = len(dfBiasL.loc[dfBiasL['confidence'] == 'Not Available'].index)\n",
    "    LNull = len(dfBiasL.loc[dfBiasL['confidence'].isnull()].index)\n",
    "    totalL = len(dfBiasL.index)\n",
    "    LC = len(dfBiasLC.loc[dfBiasLC['confidence'] == 'Not Available'].index)\n",
    "    LCNull = len(dfBiasLC.loc[dfBiasLC['confidence'].isnull()].index)\n",
    "    totalLC = len(dfBiasLC.index)\n",
    "    C = len(dfBiasC.loc[dfBiasC['confidence'] == 'Not Available'].index)\n",
    "    CNull = len(dfBiasC.loc[dfBiasC['confidence'].isnull()].index)\n",
    "    totalC = len(dfBiasC.index)\n",
    "    RC = len(dfBiasRC.loc[dfBiasRC['confidence'] == 'Not Available'].index)\n",
    "    RCNull = len(dfBiasRC.loc[dfBiasRC['confidence'].isnull()].index)\n",
    "    totalRC = len(dfBiasRC.index)\n",
    "    R = len(dfBiasR.loc[dfBiasR['confidence'] == 'Not Available'].index)\n",
    "    RNull = len(dfBiasR.loc[dfBiasR['confidence'].isnull()].index)\n",
    "    totalR = len(dfBiasR.index)\n",
    "    \n",
    "    return [100*(L+LNull)/totalL, 100*(LC+LCNull)/totalLC, 100*(C+CNull)/totalC, 100*(RC+RCNull)/totalRC, 100*(R+RNull)/totalR]\n",
    "\n",
    "N = 5 \n",
    "dfBiasLC = dfAllSidesAuthors.loc[dfAllSidesAuthors['bias_x'] == 'left-center']\n",
    "dfBiasC = dfAllSidesAuthors.loc[dfAllSidesAuthors['bias_x'] == 'center']\n",
    "dfBiasRC = dfAllSidesAuthors.loc[dfAllSidesAuthors['bias_x'] == 'right-center']\n",
    "dfBiasR = dfAllSidesAuthors.loc[dfAllSidesAuthors['bias_x'] == 'center']\n",
    "\n",
    "highConfidence = getConfidence('High')\n",
    "mediumConfidence = getConfidence('Medium')\n",
    "initialConfidence = getConfidence('Low or Initial Rating')\n",
    "noConfidence = getNoConfidence()\n",
    "    \n",
    "ind = np.arange(N)    # the x locations for the groups\n",
    "width = 0.35       # the width of the bars: can also be len(x) sequence\n",
    "\n",
    "\n",
    "updatedY = [noConfidence[i]+initialConfidence[i] for i in range(len(noConfidence))]\n",
    "\n",
    "p1 = plt.bar(ind, noConfidence, width, color=('red'))\n",
    "p2 = plt.bar(ind, initialConfidence, width, color=('seaGreen'),\n",
    "             bottom=noConfidence)\n",
    "p3 = plt.bar(ind, mediumConfidence, width, color=('MediumSpringGreen'),\n",
    "             bottom=updatedY)\n",
    "updatedY2 = [updatedY[i]+mediumConfidence[i] for i in range(len(updatedY))]\n",
    "p4 = plt.bar(ind, highConfidence, width, color=('Lime'),\n",
    "             bottom=updatedY2)\n",
    "\n",
    "\n",
    "\n",
    "plt.ylabel('Confidence Level')\n",
    "plt.title('AllSides Confidence Level Spread by Bias')\n",
    "plt.xticks(ind, ('Left', 'Left-Center', 'Center', 'Right-Center', 'Right'))\n",
    "plt.yticks(np.arange(0, 101, 10))\n",
    "plt.gca().set_yticklabels(['{:.0f}%'.format(x) for x in plt.gca().get_yticks()]) \n",
    "plt.legend((p1[0], p2[0], p3[0], p4[0]), ('Not Available', 'Initial Rating', 'Medium Confidence', 'High Confidence'))\n",
    "\n",
    "plt.show()"
   ]
  },
  {
   "cell_type": "code",
   "execution_count": 62,
   "metadata": {},
   "outputs": [
    {
     "data": {
      "image/png": "[encoded data removed]",
      "text/plain": [
       "<Figure size 432x288 with 1 Axes>"
      ]
     },
     "metadata": {},
     "output_type": "display_data"
    }
   ],
   "source": [
    "import seaborn as sns\n",
    "import matplotlib.pyplot as plt\n",
    "import numpy as np\n",
    "\n",
    "#Get confidence split on PIE chart\n",
    "\n",
    "def getConfidence():\n",
    "    high = len(dfAllSidesAuthors.loc[dfAllSidesAuthors['confidence'] == 'High'].index)\n",
    "    medium = len(dfAllSidesAuthors.loc[dfAllSidesAuthors['confidence'] == 'Medium'].index)\n",
    "    low = len(dfAllSidesAuthors.loc[dfAllSidesAuthors['confidence'] == 'Low or Initial Rating'].index)\n",
    "    NA = len(dfAllSidesAuthors.loc[dfAllSidesAuthors['confidence'] == 'Not Available'].index)\n",
    "    NaN = len(dfAllSidesAuthors.loc[dfAllSidesAuthors['confidence'].isnull()].index)\n",
    "    total = len(dfAllSidesAuthors.index)\n",
    "    \n",
    "    return [100*high/total, 100*medium/total, 100*low/total, 100*NA/total + 100*NaN/total]\n",
    "\n",
    "\n",
    "\n",
    "# Some data\n",
    "labels = 'High', 'Medium', 'Initial Rating', 'Not Available/Null'\n",
    "fracs = getConfidence()\n",
    "\n",
    "# Make figure and axes\n",
    "fig, ax = plt.subplots()\n",
    "\n",
    "# A standard pie plot\n",
    "# ax.pie(fracs, labels=labels, autopct='%1.1f%%', shadow=True)\n",
    "colorArray = ['Lime', 'MediumSpringGreen', 'SeaGreen', 'red']\n",
    "\n",
    "# Shift the second slice using explode\n",
    "ax.pie(fracs, labels=labels, colors=colorArray, autopct='%.0f%%', shadow=True,\n",
    "              explode=(0, 0, 0, 0.07))\n",
    "\n",
    "plt.title('AllSides Authors Confidence Level Spread')\n",
    "\n",
    "\n",
    "#-------------------------------------------------------------------\n",
    "    \n",
    "\n",
    "plt.show()"
   ]
  },
  {
   "cell_type": "code",
   "execution_count": null,
   "metadata": {},
   "outputs": [],
   "source": []
  }
 ],
 "metadata": {
  "kernelspec": {
   "display_name": "Python 3",
   "language": "python",
   "name": "python3"
  },
  "language_info": {
   "codemirror_mode": {
    "name": "ipython",
    "version": 3
   },
   "file_extension": ".py",
   "mimetype": "text/x-python",
   "name": "python",
   "nbconvert_exporter": "python",
   "pygments_lexer": "ipython3",
   "version": "3.7.0"
  }
 },
 "nbformat": 4,
 "nbformat_minor": 2
}
