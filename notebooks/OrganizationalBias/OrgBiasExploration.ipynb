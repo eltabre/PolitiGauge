{
 "cells": [
  {
   "cell_type": "markdown",
   "metadata": {},
   "source": [
    "# Organizational Bias Exploration \n",
    "#### Pulling data from MediaBiasFactCheck.com and AllSides.com\n",
    "\n",
    "Matthew Fishman, Practicum Milestone 1"
   ]
  },
  {
   "cell_type": "markdown",
   "metadata": {},
   "source": [
    "### Get/Clean Data"
   ]
  },
  {
   "cell_type": "code",
   "execution_count": 1,
   "metadata": {},
   "outputs": [],
   "source": [
    "import json, pandas as pd\n",
    "from pandas.io.json import json_normalize\n",
    "\n",
    "# AllSides data\n",
    "dfAllSides = pd.read_json('AllSidesALL.json')\n",
    "dfAllSides['name'] = dfAllSides['name'].str.replace('!', '')\n",
    "dfAllSides = dfAllSides.set_index('name')\n",
    "dfAllSides['total_votes'] = dfAllSides.apply(lambda row: row.agree + row.disagree, axis=1)\n",
    "dfAllSides = dfAllSides[['bias','confidence','agree_ratio','total_votes','agreeance_text','website_url']]  #website_url omitted\n",
    "dfAllSides = dfAllSides.rename(columns={'agreeance_text':'community_response'})\n",
    "\n",
    "\n",
    "# MediaBiasFactCheck data\n",
    "dfMBFC = pd.read_json('MBFCsourcesALL.json')\n",
    "dfMBFC = dfMBFC.T\n",
    "dfMBFC = dfMBFC.set_index(\"name\")\n",
    "dfMBFC = dfMBFC[dfMBFC.bias != '']\n",
    "dfMBFC = dfMBFC[['bias','homepage','facebook_url']]\n",
    "dfMBFC = dfMBFC.rename(columns={'homepage':'website_url'})"
   ]
  },
  {
   "cell_type": "markdown",
   "metadata": {},
   "source": [
    "### Normalize Data"
   ]
  },
  {
   "cell_type": "code",
   "execution_count": null,
   "metadata": {},
   "outputs": [],
   "source": [
    "# Figure out possible values\n",
    "set(dfAllSides.bias)\n",
    "#{'allsides', 'center', 'lean left', 'lean right', 'left', 'mixed', 'right'}\n",
    "\n",
    "set(dfMBFC.bias)\n",
    "#{center', 'conspiracy', 'fake-news', 'left', 'left-center', 'pro-science', 'right', 'right-center', 'satire'}\n"
   ]
  },
  {
   "cell_type": "code",
   "execution_count": 2,
   "metadata": {},
   "outputs": [],
   "source": [
    "# Drop 'mixed/allsides' sites that give perspectives from both sides of the policial spectrum\n",
    "dfAllSides = dfAllSides[(dfAllSides.bias != 'mixed')\n",
    "                       & (dfAllSides.bias != 'allsides')]\n",
    "\n",
    "\n",
    "# Drop non-political scale sources (about 900/2500)\n",
    "dfMBFC = dfMBFC[(dfMBFC.bias != 'conspiracy') \n",
    "                & (dfMBFC.bias != 'fake-news') \n",
    "                & (dfMBFC.bias !='pro-science') \n",
    "                & (dfMBFC.bias != 'satire')]\n",
    "\n",
    "# Remove the four duplicates\n",
    "dfMBFC = dfMBFC[~dfMBFC.index.duplicated(keep='first')]\n",
    "\n",
    "# dfAllSides"
   ]
  },
  {
   "cell_type": "code",
   "execution_count": null,
   "metadata": {},
   "outputs": [],
   "source": [
    "#get total ratings for AllSides\n",
    "dfAllSides.shape"
   ]
  },
  {
   "cell_type": "code",
   "execution_count": null,
   "metadata": {},
   "outputs": [],
   "source": [
    "#get total ratings for AllSides\n",
    "dfMBFC.shape"
   ]
  },
  {
   "cell_type": "code",
   "execution_count": 7,
   "metadata": {},
   "outputs": [
    {
     "data": {
      "text/plain": [
       "(52, 9)"
      ]
     },
     "execution_count": 7,
     "metadata": {},
     "output_type": "execute_result"
    }
   ],
   "source": [
    "#get number of agreed-upon ratings\n",
    "# dfAllSides.merge(dfMBFC, how='outer', left_index=True, right_index=True)\n",
    "\n",
    "# All data\n",
    "# dfMerged = dfAllSides.merge(dfMBFC, how='outer', left_index=True, right_index=True)\n",
    "\n",
    "# Just common media sources\n",
    "dfMerged = pd.merge(dfAllSides, dfMBFC, left_index=True, right_index=True)\n",
    "dfMerged = dfMerged.drop_duplicates()\n",
    "dfMerged\n",
    "dfMerged.shape\n",
    "# set(dfAllSides.confidence)"
   ]
  },
  {
   "cell_type": "markdown",
   "metadata": {},
   "source": [
    "## Data Visualizations"
   ]
  },
  {
   "cell_type": "code",
   "execution_count": null,
   "metadata": {},
   "outputs": [],
   "source": [
    "import seaborn as sns\n",
    "import matplotlib.pyplot as plt\n",
    "import numpy as np\n",
    "\n",
    "#for every news source in AllSides,\n",
    "#  Split up into agree ratios and show chart\n",
    "\n",
    "\n",
    "#Get average agree ratio for AllSides by political bias\n",
    "def getAvgAgreeRatio(dfBias):\n",
    "    left = dfAllSides.loc[dfAllSides['bias'] == 'left'].loc[:,\"agree_ratio\"].mean()\n",
    "    centerLeft = dfAllSides.loc[dfAllSides['bias'] == 'left-center'].loc[:,\"agree_ratio\"].mean()\n",
    "    center = dfAllSides.loc[dfAllSides['bias'] == 'center'].loc[:,\"agree_ratio\"].mean()\n",
    "    centerRight = dfAllSides.loc[dfAllSides['bias'] == 'right-center'].loc[:,\"agree_ratio\"].mean()\n",
    "    right = dfAllSides.loc[dfAllSides['bias'] == 'right'].loc[:,\"agree_ratio\"].mean()\n",
    "    return left, centerLeft, center, centerRight, right\n",
    "\n",
    "fig, ax = plt.subplots()\n",
    "ind = np.arange(5)\n",
    "\n",
    "left, centerLeft, center, centerRight, right = plt.bar(ind, getAvgAgreeRatio(dfAllSides))\n",
    "left.set_facecolor('b')\n",
    "centerLeft.set_facecolor('b')\n",
    "centerLeft.set_alpha(0.5)\n",
    "center.set_facecolor('purple')\n",
    "centerRight.set_facecolor('r')\n",
    "centerRight.set_alpha(0.5)\n",
    "right.set_facecolor('r')\n",
    "\n",
    "ax.set_xticks(ind)\n",
    "ax.set_xticklabels(['Left', 'Left-Center', 'Center', 'Right-Center', 'Right'])\n",
    "ax.set_xlabel('Political Bias (AllSides)')\n",
    "ax.set_ylim([0, 2])\n",
    "ax.set_ylabel('Avg. Agree Ratio')\n",
    "ax.set_title('AllSides Reader Agreement Ratio')\n",
    "\n",
    "# show the figure, but do not block\n",
    "plt.show(block=False)"
   ]
  },
  {
   "cell_type": "code",
   "execution_count": null,
   "metadata": {},
   "outputs": [],
   "source": [
    "import seaborn as sns\n",
    "import matplotlib.pyplot as plt\n",
    "import numpy as np\n",
    "\n",
    "#Get confidenc level on split bar chart \n",
    "\n",
    "def getConfidence(biasLevel):\n",
    "    L = len(dfBiasL.loc[dfBiasL['confidence'] == biasLevel].index)\n",
    "    totalL = len(dfBiasL.index)\n",
    "    LC = len(dfBiasLC.loc[dfBiasLC['confidence'] == biasLevel].index)\n",
    "    totalLC = len(dfBiasLC.index)\n",
    "    C = len(dfBiasC.loc[dfBiasC['confidence'] == biasLevel].index)\n",
    "    totalC = len(dfBiasC.index)\n",
    "    RC = len(dfBiasRC.loc[dfBiasRC['confidence'] == biasLevel].index)\n",
    "    totalRC = len(dfBiasRC.index)\n",
    "    R = len(dfBiasR.loc[dfBiasR['confidence'] == biasLevel].index)\n",
    "    totalR = len(dfBiasR.index)\n",
    "    \n",
    "    return [100*L/totalL, 100*LC/totalLC, 100*C/totalC, 100*RC/totalRC, 100*R/totalR]\n",
    "\n",
    "\n",
    "N = 5\n",
    "dfBiasL = dfAllSides.loc[dfAllSides['bias'] == 'left']\n",
    "dfBiasLC = dfAllSides.loc[dfAllSides['bias'] == 'left-center']\n",
    "dfBiasC = dfAllSides.loc[dfAllSides['bias'] == 'center']\n",
    "dfBiasRC = dfAllSides.loc[dfAllSides['bias'] == 'right-center']\n",
    "dfBiasR = dfAllSides.loc[dfAllSides['bias'] == 'center']\n",
    "\n",
    "highConfidence = getConfidence('High')\n",
    "mediumConfidence = getConfidence('Medium')\n",
    "initialConfidence = getConfidence('Low or Initial Rating')\n",
    "noConfidence = getConfidence('Not Available')\n",
    "    \n",
    "ind = np.arange(N)    # the x locations for the groups\n",
    "width = 0.35       # the width of the bars: can also be len(x) sequence\n",
    "\n",
    "\n",
    "updatedY = [noConfidence[i]+initialConfidence[i] for i in range(len(noConfidence))]\n",
    "\n",
    "p1 = plt.bar(ind, noConfidence, width, color=('red'))\n",
    "p2 = plt.bar(ind, initialConfidence, width, color=('seaGreen'),\n",
    "             bottom=noConfidence)\n",
    "p3 = plt.bar(ind, mediumConfidence, width, color=('MediumSpringGreen'),\n",
    "             bottom=updatedY)\n",
    "updatedY2 = [updatedY[i]+mediumConfidence[i] for i in range(len(updatedY))]\n",
    "p4 = plt.bar(ind, highConfidence, width, color=('Lime'),\n",
    "             bottom=updatedY2)\n",
    "\n",
    "\n",
    "\n",
    "plt.ylabel('Confidence Level')\n",
    "plt.title('AllSides Confidence Level Spread by Bias')\n",
    "plt.xticks(ind, ('Left', 'Left-Center', 'Center', 'Right-Center', 'Right'))\n",
    "plt.yticks(np.arange(0, 101, 10))\n",
    "plt.gca().set_yticklabels(['{:.0f}%'.format(x) for x in plt.gca().get_yticks()]) \n",
    "plt.legend((p1[0], p2[0], p3[0], p4[0]), ('Not Available', 'Initial Rating', 'Medium Confidence', 'High Confidence'))\n",
    "\n",
    "plt.show()"
   ]
  },
  {
   "cell_type": "code",
   "execution_count": null,
   "metadata": {},
   "outputs": [],
   "source": [
    "import seaborn as sns\n",
    "import matplotlib.pyplot as plt\n",
    "import numpy as np\n",
    "\n",
    "#Get confidence split on PIE chart\n",
    "\n",
    "def getConfidence():\n",
    "    high = len(dfAllSides.loc[dfAllSides['confidence'] == 'High'].index)\n",
    "    medium = len(dfAllSides.loc[dfAllSides['confidence'] == 'Medium'].index)\n",
    "    low = len(dfAllSides.loc[dfAllSides['confidence'] == 'Low or Initial Rating'].index)\n",
    "    NA = len(dfAllSides.loc[dfAllSides['confidence'] == 'Not Available'].index)\n",
    "    total = len(dfAllSides.index)\n",
    "    \n",
    "    return [100*high/total, 100*medium/total, 100*low/total, 100*NA/total]\n",
    "\n",
    "\n",
    "N = 5\n",
    "\n",
    "# Some data\n",
    "labels = 'High', 'Medium', 'Initial Rating', 'Not Available'\n",
    "fracs = getConfidence()\n",
    "\n",
    "# Make figure and axes\n",
    "fig, ax = plt.subplots()\n",
    "\n",
    "# A standard pie plot\n",
    "# ax.pie(fracs, labels=labels, autopct='%1.1f%%', shadow=True)\n",
    "colorArray = ['Lime', 'MediumSpringGreen', 'SeaGreen', 'red']\n",
    "\n",
    "# Shift the second slice using explode\n",
    "ax.pie(fracs, labels=labels, colors=colorArray, autopct='%.0f%%', shadow=True,\n",
    "              explode=(0, 0, 0, 0.08))\n",
    "\n",
    "plt.title('AllSides Confidence Level Spread')\n",
    "\n",
    "\n",
    "#-------------------------------------------------------------------\n",
    "    \n",
    "\n",
    "plt.show()"
   ]
  },
  {
   "cell_type": "markdown",
   "metadata": {},
   "source": [
    "### Find Amount of Discrepancy Between AllSides and MBFC"
   ]
  },
  {
   "cell_type": "code",
   "execution_count": 8,
   "metadata": {},
   "outputs": [
    {
     "data": {
      "text/plain": [
       "0.36538461538461536"
      ]
     },
     "execution_count": 8,
     "metadata": {},
     "output_type": "execute_result"
    }
   ],
   "source": [
    "discrepancy = dfMerged.loc[dfMerged['bias_x'] != dfMerged['bias_y']]\n",
    "# discrepancy\n",
    "ratio_discrepancy = len(discrepancy.index)/len(dfMerged.index)     \n",
    "ratio_discrepancy\n",
    "#36.5% disagree\n",
    "#18/50 disagreed upon\n",
    "\n",
    "# discrepancy['agree_ratio'].mean()    #1.08 avg reader agreement ratio\n",
    "# len(discrepancy.loc[discrepancy['confidence'] == 'Not Available'].index)     #5/18 \n",
    "# len(discrepancy.loc[discrepancy['confidence'] == 'Low or Initial Rating'].index)      #10/18\n",
    "# len(discrepancy.loc[discrepancy['confidence'] == 'Medium'].index)      #2/18\n",
    "# len(discrepancy.loc[discrepancy['confidence'] == 'High'].index)      #1/18"
   ]
  },
  {
   "cell_type": "code",
   "execution_count": null,
   "metadata": {},
   "outputs": [],
   "source": [
    "import seaborn as sns\n",
    "import matplotlib.pyplot as plt\n",
    "sns.set(style=\"white\")\n",
    "#for every news source in AllSides,\n",
    "#  Split up into agree ratios and show chart\n",
    "\n",
    "\n",
    "#Get most popular agreed-upon news sources\n",
    "dfMergedPop = dfMerged.loc[dfMerged['total_votes'] > 93]\n",
    "\n",
    "#Graph them\n",
    "ax = sns.stripplot('bias', 'Popularity', data=dfMerged, \n",
    "                   order=['left', 'left-center', 'center', 'right-center', 'right'], \n",
    "                   palette=sns.diverging_palette(258, 12, n=5), edgecolor='black', linewidth=.5)\n",
    "plt.title('AllSides Reader Agree Ratio')\n",
    "plt.xlabel('Political Bias')\n",
    "plt.ylabel('Avg. Agree Ratio')\n",
    "\n",
    "#Label them\n",
    "def label_point(category, y, val, ax):\n",
    "    spacing = .1\n",
    "    a = pd.concat({'x': category, 'y': y, 'val': val}, axis=1)\n",
    "    for j, point in a.iterrows():\n",
    "        ax.text(point['x']+.02, point['y']+spacing, str(point['val']))\n",
    "        spacing *= -1\n",
    "\n",
    "\n",
    "dfBiasLoc = dfMergedPop.bias\n",
    "dfMergedPop.loc[dfMergedPop.bias == \"left\", 'pos'] = 0.1\n",
    "dfMergedPop.loc[dfMergedPop.bias == \"left-center\", 'pos'] = 1.1\n",
    "dfMergedPop.loc[dfMergedPop.bias == \"center\", 'pos'] = 2.1\n",
    "dfMergedPop.loc[dfMergedPop.bias == \"right-center\", 'pos'] = 3.1\n",
    "dfMergedPop.loc[dfMergedPop.bias == \"right\", 'pos'] = 4.1\n",
    "label_point(dfMergedPop.pos, dfMergedPop.Popularity, dfMergedPop.name, plt.gca())  "
   ]
  },
  {
   "cell_type": "code",
   "execution_count": null,
   "metadata": {},
   "outputs": [],
   "source": [
    "#Export cleaned data\n",
    "dfAllSides.to_json(r'C:\\Users\\Matthew\\OneDrive\\Semester 8\\Data Science Capstone\\PolitiGauge\\notebooks\\OrganizationalBias\\CleanedAllSides.json',orient=\"index\")\n",
    "dfMBFC.to_json(r'C:\\Users\\Matthew\\OneDrive\\Semester 8\\Data Science Capstone\\PolitiGauge\\notebooks\\OrganizationalBias\\CleanedMBFC.json',orient=\"index\")"
   ]
  }
 ],
 "metadata": {
  "kernelspec": {
   "display_name": "Python 3",
   "language": "python",
   "name": "python3"
  },
  "language_info": {
   "codemirror_mode": {
    "name": "ipython",
    "version": 3
   },
   "file_extension": ".py",
   "mimetype": "text/x-python",
   "name": "python",
   "nbconvert_exporter": "python",
   "pygments_lexer": "ipython3",
   "version": "3.7.0"
  }
 },
 "nbformat": 4,
 "nbformat_minor": 2
}
