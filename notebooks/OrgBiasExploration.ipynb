{
 "cells": [
  {
   "cell_type": "code",
   "execution_count": null,
   "metadata": {},
   "outputs": [],
   "source": [
    "import json, pandas as pd\n",
    "from pandas.io.json import json_normalize\n",
    "\n",
    "#Clean Data\n",
    "dfAllSides = pd.read_json('AllSidesSources.json')\n",
    "dfAllSidesTrans = dfAllSides.T\n",
    "dfAllSidesTrans.index = dfAllSidesTrans.index.str.lower()\n",
    "dfAllSidesTrans['rating'] = dfAllSidesTrans['rating'].str.lower()\n",
    "dfAllSidesCleaned = dfAllSidesTrans.sort_index()\n",
    "\n",
    "dfAllSidesCleaned"
   ]
  },
  {
   "cell_type": "code",
   "execution_count": null,
   "metadata": {},
   "outputs": [],
   "source": [
    "#Figure out possible values\n",
    "set(dfAllSidesCleaned.rating)\n",
    "\n",
    "#{'center', 'lean left', 'lean right', 'left', 'mixed', 'right'}"
   ]
  },
  {
   "cell_type": "code",
   "execution_count": null,
   "metadata": {},
   "outputs": [],
   "source": [
    "#Clean Data\n",
    "dfMBFC = pd.read_json('MBFCsourcesAll.json')\n",
    "dfMBFCTrans = dfMBFC.T\n",
    "dfMBFCTrans.index = dfMBFCTrans.index.str.lower()\n",
    "dfMBFCSorted = dfMBFCTrans.sort_index()\n",
    "dfMBFCCleaned = dfMBFCSorted[dfMBFCSorted.bias != '']\n",
    "dfMBFCNorm = dfMBFCCleaned[['name','bias','reporting','notes']]\n",
    "dfMBFCNorm"
   ]
  },
  {
   "cell_type": "code",
   "execution_count": null,
   "metadata": {},
   "outputs": [],
   "source": [
    "#Figure out possible values\n",
    "set(dfMBFCNorm.bias)\n",
    "#{center', 'conspiracy', 'fake-news', 'left', 'left-center', 'pro-science', 'right', 'right-center', 'satire'}"
   ]
  },
  {
   "cell_type": "code",
   "execution_count": null,
   "metadata": {},
   "outputs": [],
   "source": [
    "#Normalize data, drop 'mixed' sites that give perspectives from both sides of the policial spectrum\n",
    "dfAllSidesNorm = dfAllSidesCleaned.replace(['lean left', 'lean right'], ['left-center', 'right-center'])\n",
    "dfAllSidesNorm = dfAllSidesNorm.rename(index=str, columns={\"rating\": \"bias\", \"title\": \"name\"})\n",
    "dfAllSidesNorm = dfAllSidesNorm[dfAllSidesNorm.bias != 'mixed']\n",
    "dfAllSidesNorm"
   ]
  },
  {
   "cell_type": "code",
   "execution_count": null,
   "metadata": {},
   "outputs": [],
   "source": [
    "#get total ratings for AllSides\n",
    "dfAllSidesNorm.shape"
   ]
  },
  {
   "cell_type": "code",
   "execution_count": null,
   "metadata": {},
   "outputs": [],
   "source": [
    "#get total ratings for AllSides\n",
    "dfMBFCNorm.shape"
   ]
  },
  {
   "cell_type": "code",
   "execution_count": null,
   "metadata": {},
   "outputs": [],
   "source": [
    "#get number of agreed-upon ratings\n",
    "dfMerged = pd.merge(dfAllSidesNorm, dfMBFCNorm, how='inner')\n",
    "dfMerged.shape"
   ]
  },
  {
   "cell_type": "code",
   "execution_count": null,
   "metadata": {},
   "outputs": [],
   "source": []
  }
 ],
 "metadata": {
  "kernelspec": {
   "display_name": "Python 3",
   "language": "python",
   "name": "python3"
  },
  "language_info": {
   "codemirror_mode": {
    "name": "ipython",
    "version": 3
   },
   "file_extension": ".py",
   "mimetype": "text/x-python",
   "name": "python",
   "nbconvert_exporter": "python",
   "pygments_lexer": "ipython3",
   "version": "3.7.0"
  }
 },
 "nbformat": 4,
 "nbformat_minor": 2
}
