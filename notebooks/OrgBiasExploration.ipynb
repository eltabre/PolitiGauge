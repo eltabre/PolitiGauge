{
 "cells": [
  {
   "cell_type": "code",
   "execution_count": null,
   "metadata": {},
   "outputs": [],
   "source": [
    "import json, pandas as pd\n",
    "from pandas.io.json import json_normalize\n",
    "\n",
    "#Clean Data\n",
    "dfAllSides = pd.read_json('AllSidesSources.json')\n",
    "dfAllSidesTrans = dfAllSides.T\n",
    "dfAllSidesTrans.index = dfAllSidesTrans.index.str.lower()\n",
    "dfAllSidesTrans['rating'] = dfAllSidesTrans['rating'].str.lower()\n",
    "dfAllSidesCleaned = dfAllSidesTrans[['rating','title']].sort_index()\n",
    "\n",
    "#dfAllSidesCleaned"
   ]
  },
  {
   "cell_type": "code",
   "execution_count": null,
   "metadata": {},
   "outputs": [],
   "source": [
    "#Figure out possible values\n",
    "set(dfAllSidesCleaned.rating)\n",
    "\n",
    "#{'center', 'lean left', 'lean right', 'left', 'mixed', 'right'}"
   ]
  },
  {
   "cell_type": "code",
   "execution_count": null,
   "metadata": {},
   "outputs": [],
   "source": [
    "#Clean Data\n",
    "dfMBFC = pd.read_json('MBFCsourcesAll.json')\n",
    "dfMBFCTrans = dfMBFC.T\n",
    "dfMBFCTrans.index = dfMBFCTrans.index.str.lower()\n",
    "dfMBFCSorted = dfMBFCTrans.sort_index()\n",
    "dfMBFCCleaned = dfMBFCSorted[dfMBFCSorted.bias != '']\n",
    "dfMBFCAdj = dfMBFCCleaned[['name','bias','Popularity']]\n",
    "\n",
    "#Figure out possible values\n",
    "#set(dfMBFCAdj.bias)\n",
    "#{center', 'conspiracy', 'fake-news', 'left', 'left-center', 'pro-science', 'right', 'right-center', 'satire'}\n"
   ]
  },
  {
   "cell_type": "code",
   "execution_count": null,
   "metadata": {},
   "outputs": [],
   "source": [
    "#Drop non-political scale sources (about 900/2500)\n",
    "dfMBFCNorm = dfMBFCAdj[(dfMBFCAdj.bias != 'conspiracy') & (dfMBFCAdj.bias != 'fake-news') & (dfMBFCAdj.bias !='pro-science') & (dfMBFCAdj.bias != 'satire')]\n",
    "#dfMBFCNorm"
   ]
  },
  {
   "cell_type": "code",
   "execution_count": null,
   "metadata": {},
   "outputs": [],
   "source": [
    "#Normalize data, drop 'mixed' sites that give perspectives from both sides of the policial spectrum\n",
    "dfAllSidesNorm = dfAllSidesCleaned.replace(['lean left', 'lean right'], ['left-center', 'right-center'])\n",
    "dfAllSidesNorm = dfAllSidesNorm.rename(index=str, columns={\"rating\": \"bias\", \"title\": \"name\"})\n",
    "dfAllSidesNorm = dfAllSidesNorm[dfAllSidesNorm.bias != 'mixed']\n",
    "#dfAllSidesNorm"
   ]
  },
  {
   "cell_type": "code",
   "execution_count": null,
   "metadata": {},
   "outputs": [],
   "source": [
    "#get total ratings for AllSides\n",
    "dfAllSidesNorm.shape"
   ]
  },
  {
   "cell_type": "code",
   "execution_count": null,
   "metadata": {},
   "outputs": [],
   "source": [
    "#get total ratings for AllSides\n",
    "dfMBFCNorm.shape"
   ]
  },
  {
   "cell_type": "code",
   "execution_count": null,
   "metadata": {},
   "outputs": [],
   "source": [
    "#get number of agreed-upon ratings\n",
    "dfMerged = pd.merge(dfAllSidesNorm, dfMBFCNorm, how='inner')\n",
    "dfMerged = dfMerged.drop_duplicates()\n",
    "dfMerged.shape\n",
    "#dfMerged"
   ]
  },
  {
   "cell_type": "code",
   "execution_count": null,
   "metadata": {},
   "outputs": [],
   "source": [
    "import seaborn as sns\n",
    "import matplotlib.pyplot as plt\n",
    "sns.set(style=\"white\")\n",
    "\n",
    "#Get most popular agreed-upon news sources\n",
    "dfMergedPop = dfMerged.loc[dfMerged['Popularity'] > 93]\n",
    "\n",
    "#Graph them\n",
    "ax = sns.stripplot('bias', 'Popularity', data=dfMergedPop, \n",
    "                   order=['left', 'left-center', 'center', 'right-center', 'right'], \n",
    "                   palette=sns.diverging_palette(258, 12, n=5), edgecolor='black', linewidth=.5)\n",
    "plt.title('Top 25 Media Sources with Confirmed Bias')\n",
    "plt.xlabel('Political Bias')\n",
    "plt.ylabel('Popularity')\n",
    "\n",
    "#Label them\n",
    "def label_point(category, y, val, ax):\n",
    "    spacing = .1\n",
    "    a = pd.concat({'x': category, 'y': y, 'val': val}, axis=1)\n",
    "    for j, point in a.iterrows():\n",
    "        ax.text(point['x']+.02, point['y']+spacing, str(point['val']))\n",
    "        spacing *= -1\n",
    "\n",
    "\n",
    "dfBiasLoc = dfMergedPop.bias\n",
    "dfMergedPop.loc[dfMergedPop.bias == \"left\", 'pos'] = 0.1\n",
    "dfMergedPop.loc[dfMergedPop.bias == \"left-center\", 'pos'] = 1.1\n",
    "dfMergedPop.loc[dfMergedPop.bias == \"center\", 'pos'] = 2.1\n",
    "dfMergedPop.loc[dfMergedPop.bias == \"right-center\", 'pos'] = 3.1\n",
    "dfMergedPop.loc[dfMergedPop.bias == \"right\", 'pos'] = 4.1\n",
    "label_point(dfMergedPop.pos, dfMergedPop.Popularity, dfMergedPop.name, plt.gca())  "
   ]
  },
  {
   "cell_type": "code",
   "execution_count": null,
   "metadata": {},
   "outputs": [],
   "source": []
  },
  {
   "cell_type": "code",
   "execution_count": null,
   "metadata": {},
   "outputs": [],
   "source": []
  },
  {
   "cell_type": "code",
   "execution_count": null,
   "metadata": {},
   "outputs": [],
   "source": []
  }
 ],
 "metadata": {
  "kernelspec": {
   "display_name": "Python 3",
   "language": "python",
   "name": "python3"
  },
  "language_info": {
   "codemirror_mode": {
    "name": "ipython",
    "version": 3
   },
   "file_extension": ".py",
   "mimetype": "text/x-python",
   "name": "python",
   "nbconvert_exporter": "python",
   "pygments_lexer": "ipython3",
   "version": "3.7.0"
  }
 },
 "nbformat": 4,
 "nbformat_minor": 2
}
